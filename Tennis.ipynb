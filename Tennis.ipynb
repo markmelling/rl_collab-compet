{
 "cells": [
  {
   "cell_type": "markdown",
   "metadata": {},
   "source": [
    "# Collaboration and Competition\n",
    "\n",
    "---\n",
    "\n",
    "In this notebook, you will learn how to use the Unity ML-Agents environment for the third project of the [Deep Reinforcement Learning Nanodegree](https://www.udacity.com/course/deep-reinforcement-learning-nanodegree--nd893) program.\n",
    "\n",
    "### 1. Start the Environment\n",
    "\n",
    "We begin by importing the necessary packages.  If the code cell below returns an error, please revisit the project instructions to double-check that you have installed [Unity ML-Agents](https://github.com/Unity-Technologies/ml-agents/blob/master/docs/Installation.md) and [NumPy](http://www.numpy.org/)."
   ]
  },
  {
   "cell_type": "code",
   "execution_count": 1,
   "metadata": {},
   "outputs": [],
   "source": [
    "from unityagents import UnityEnvironment\n",
    "import numpy as np"
   ]
  },
  {
   "cell_type": "markdown",
   "metadata": {},
   "source": [
    "Next, we will start the environment!  **_Before running the code cell below_**, change the `file_name` parameter to match the location of the Unity environment that you downloaded.\n",
    "\n",
    "- **Mac**: `\"path/to/Tennis.app\"`\n",
    "- **Windows** (x86): `\"path/to/Tennis_Windows_x86/Tennis.exe\"`\n",
    "- **Windows** (x86_64): `\"path/to/Tennis_Windows_x86_64/Tennis.exe\"`\n",
    "- **Linux** (x86): `\"path/to/Tennis_Linux/Tennis.x86\"`\n",
    "- **Linux** (x86_64): `\"path/to/Tennis_Linux/Tennis.x86_64\"`\n",
    "- **Linux** (x86, headless): `\"path/to/Tennis_Linux_NoVis/Tennis.x86\"`\n",
    "- **Linux** (x86_64, headless): `\"path/to/Tennis_Linux_NoVis/Tennis.x86_64\"`\n",
    "\n",
    "For instance, if you are using a Mac, then you downloaded `Tennis.app`.  If this file is in the same folder as the notebook, then the line below should appear as follows:\n",
    "```\n",
    "env = UnityEnvironment(file_name=\"Tennis.app\")\n",
    "```"
   ]
  },
  {
   "cell_type": "code",
   "execution_count": 2,
   "metadata": {},
   "outputs": [
    {
     "name": "stderr",
     "output_type": "stream",
     "text": [
      "INFO:unityagents:\n",
      "'Academy' started successfully!\n",
      "Unity Academy name: Academy\n",
      "        Number of Brains: 1\n",
      "        Number of External Brains : 1\n",
      "        Lesson number : 0\n",
      "        Reset Parameters :\n",
      "\t\t\n",
      "Unity brain name: TennisBrain\n",
      "        Number of Visual Observations (per agent): 0\n",
      "        Vector Observation space type: continuous\n",
      "        Vector Observation space size (per agent): 8\n",
      "        Number of stacked Vector Observation: 3\n",
      "        Vector Action space type: continuous\n",
      "        Vector Action space size (per agent): 2\n",
      "        Vector Action descriptions: , \n"
     ]
    }
   ],
   "source": [
    "env = UnityEnvironment(file_name=\"./Tennis_Linux/Tennis.x86_64\")"
   ]
  },
  {
   "cell_type": "markdown",
   "metadata": {},
   "source": [
    "Environments contain **_brains_** which are responsible for deciding the actions of their associated agents. Here we check for the first brain available, and set it as the default brain we will be controlling from Python."
   ]
  },
  {
   "cell_type": "code",
   "execution_count": 3,
   "metadata": {},
   "outputs": [],
   "source": [
    "# get the default brain\n",
    "brain_name = env.brain_names[0]\n",
    "brain = env.brains[brain_name]"
   ]
  },
  {
   "cell_type": "markdown",
   "metadata": {},
   "source": [
    "### 2. Examine the State and Action Spaces\n",
    "\n",
    "In this environment, two agents control rackets to bounce a ball over a net. If an agent hits the ball over the net, it receives a reward of +0.1.  If an agent lets a ball hit the ground or hits the ball out of bounds, it receives a reward of -0.01.  Thus, the goal of each agent is to keep the ball in play.\n",
    "\n",
    "The observation space consists of 8 variables corresponding to the position and velocity of the ball and racket. Two continuous actions are available, corresponding to movement toward (or away from) the net, and jumping. \n",
    "\n",
    "Run the code cell below to print some information about the environment."
   ]
  },
  {
   "cell_type": "code",
   "execution_count": 4,
   "metadata": {},
   "outputs": [
    {
     "name": "stdout",
     "output_type": "stream",
     "text": [
      "Number of agents: 2\n",
      "Size of each action: 2\n",
      "There are 2 agents. Each observes a state with length: 24\n",
      "The state for the first agent looks like: [ 0.          0.          0.          0.          0.          0.\n",
      "  0.          0.          0.          0.          0.          0.\n",
      "  0.          0.          0.          0.         -6.65278625 -1.5\n",
      " -0.          0.          6.83172083  6.         -0.          0.        ]\n"
     ]
    }
   ],
   "source": [
    "# reset the environment\n",
    "env_info = env.reset(train_mode=True)[brain_name]\n",
    "\n",
    "# number of agents \n",
    "num_agents = len(env_info.agents)\n",
    "print('Number of agents:', num_agents)\n",
    "\n",
    "# size of each action\n",
    "action_size = brain.vector_action_space_size\n",
    "print('Size of each action:', action_size)\n",
    "\n",
    "# examine the state space \n",
    "states = env_info.vector_observations\n",
    "state_size = states.shape[1]\n",
    "print('There are {} agents. Each observes a state with length: {}'.format(states.shape[0], state_size))\n",
    "print('The state for the first agent looks like:', states[0])"
   ]
  },
  {
   "cell_type": "markdown",
   "metadata": {},
   "source": [
    "### 3. Take Random Actions in the Environment\n",
    "\n",
    "In the next code cell, you will learn how to use the Python API to control the agents and receive feedback from the environment.\n",
    "\n",
    "Once this cell is executed, you will watch the agents' performance, if they select actions at random with each time step.  A window should pop up that allows you to observe the agents.\n",
    "\n",
    "Of course, as part of the project, you'll have to change the code so that the agents are able to use their experiences to gradually choose better actions when interacting with the environment!"
   ]
  },
  {
   "cell_type": "code",
   "execution_count": 5,
   "metadata": {},
   "outputs": [
    {
     "name": "stdout",
     "output_type": "stream",
     "text": [
      "Score (max over agents) from episode 1: 0.0\n",
      "Score (max over agents) from episode 2: 0.0\n",
      "Score (max over agents) from episode 3: 0.0\n",
      "Score (max over agents) from episode 4: 0.0\n",
      "Score (max over agents) from episode 5: 0.0\n"
     ]
    }
   ],
   "source": [
    "for i in range(1, 6):                                      # play game for 5 episodes\n",
    "    env_info = env.reset(train_mode=False)[brain_name]     # reset the environment    \n",
    "    states = env_info.vector_observations                  # get the current state (for each agent)\n",
    "    scores = np.zeros(num_agents)                          # initialize the score (for each agent)\n",
    "    while True:\n",
    "        actions = np.random.randn(num_agents, action_size) # select an action (for each agent)\n",
    "        actions = np.clip(actions, -1, 1)                  # all actions between -1 and 1\n",
    "        env_info = env.step(actions)[brain_name]           # send all actions to tne environment\n",
    "        next_states = env_info.vector_observations         # get next state (for each agent)\n",
    "        rewards = env_info.rewards                         # get reward (for each agent)\n",
    "        dones = env_info.local_done                        # see if episode finished\n",
    "        scores += env_info.rewards                         # update the score (for each agent)\n",
    "        states = next_states                               # roll over states to next time step\n",
    "        if np.any(dones):                                  # exit loop if episode finished\n",
    "            break\n",
    "    print('Score (max over agents) from episode {}: {}'.format(i, np.max(scores)))"
   ]
  },
  {
   "cell_type": "markdown",
   "metadata": {},
   "source": [
    "When finished, you can close the environment."
   ]
  },
  {
   "cell_type": "code",
   "execution_count": 6,
   "metadata": {},
   "outputs": [],
   "source": [
    "env.close()"
   ]
  },
  {
   "cell_type": "markdown",
   "metadata": {},
   "source": [
    "### 4. It's Your Turn!\n",
    "\n",
    "Now it's your turn to train your own agent to solve the environment!  When training the environment, set `train_mode=True`, so that the line for resetting the environment looks like the following:\n",
    "```python\n",
    "env_info = env.reset(train_mode=True)[brain_name]\n",
    "```"
   ]
  },
  {
   "cell_type": "code",
   "execution_count": null,
   "metadata": {
    "scrolled": false
   },
   "outputs": [
    {
     "name": "stderr",
     "output_type": "stream",
     "text": [
      "INFO:unityagents:\n",
      "'Academy' started successfully!\n",
      "Unity Academy name: Academy\n",
      "        Number of Brains: 1\n",
      "        Number of External Brains : 1\n",
      "        Lesson number : 0\n",
      "        Reset Parameters :\n",
      "\t\t\n",
      "Unity brain name: TennisBrain\n",
      "        Number of Visual Observations (per agent): 0\n",
      "        Vector Observation space type: continuous\n",
      "        Vector Observation space size (per agent): 8\n",
      "        Number of stacked Vector Observation: 3\n",
      "        Vector Action space type: continuous\n",
      "        Vector Action space size (per agent): 2\n",
      "        Vector Action descriptions: , \n"
     ]
    },
    {
     "name": "stdout",
     "output_type": "stream",
     "text": [
      "brain_name: TennisBrain\n",
      "Number of agents: 2\n",
      "Size of each action: 2\n",
      "There are 2 agents. Each observes a state with length: 24\n",
      "The state for the first agent looks like: [ 0.          0.          0.          0.          0.          0.\n",
      "  0.          0.          0.          0.          0.          0.\n",
      "  0.          0.          0.          0.         -6.65278625 -1.5\n",
      " -0.          0.          6.83172083  6.         -0.          0.        ]\n",
      "DDPG_Agent action_size 2 state_size 24\n",
      "DDPG_Agent action_size 2 state_size 24\n",
      "start training\n",
      "agent.eval_episodes\n",
      "dones [True, True]\n",
      "Episodes: 0 average 0.0\n",
      "dones [True, True]\n",
      "Episodes: 1 average 0.0\n",
      "dones [True, True]\n",
      "Episodes: 2 average -0.0033333332588275275\n",
      "dones [True, True]\n",
      "Episodes: 3 average -0.0024999999441206455\n",
      "dones [True, True]\n",
      "Episodes: 4 average -0.003999999910593033\n",
      "max_steps_in_episode 15\n",
      "15:44:50 After 10000 steps  average reward: -0.003999999910593033\n",
      "agent.eval_episodes\n",
      "dones [True, True]\n",
      "Episodes: 0 average 0.0\n",
      "dones [True, True]\n",
      "Episodes: 1 average 0.0\n",
      "dones [True, True]\n",
      "Episodes: 2 average -0.0033333332588275275\n",
      "dones [True, True]\n",
      "Episodes: 3 average -0.0024999999441206455\n",
      "dones [True, True]\n",
      "Episodes: 4 average -0.0019999999552965165\n",
      "max_steps_in_episode 15\n",
      "16:57:49 After 20000 steps  average reward: -0.0019999999552965165\n"
     ]
    }
   ],
   "source": [
    "from lib.environments import UnityEnv\n",
    "from lib.ddpg_agent import DDPG_Agent\n",
    "from lib.td3_agent import TD3_Agent\n",
    "\n",
    "from run_agent import train_agent\n",
    "\n",
    "\n",
    "env = UnityEnv('Tennis', './Tennis_Linux/Tennis.x86_64', train_mode=True)\n",
    "\n",
    "name = 'ddpg_base'\n",
    "max_steps = 1e6\n",
    "\n",
    "agents = []\n",
    "agent_fn = DDPG_Agent\n",
    "for i in range(env.num_agents):\n",
    "    agent = agent_fn(name=f'name-{i}',\n",
    "                     state_size=env.state_size,\n",
    "                     action_size=env.action_size,\n",
    "                     random_seed=2,\n",
    "                     warm_up=int(1e4))\n",
    "    agents.append(agent)\n",
    "\n",
    "\n",
    "train_agent('ddpg', env, agents, max_steps=max_steps)\n"
   ]
  },
  {
   "cell_type": "markdown",
   "metadata": {},
   "source": [
    "# Collaboration and Competition\n",
    "\n",
    "---\n",
    "\n",
    "The notebook shows how you can train TD3 agents to 'solve' the Tennis Unity environment. It is the third project of the [Deep Reinforcement Learning Nanodegree](https://www.udacity.com/course/deep-reinforcement-learning-nanodegree--nd893) program.\n",
    "\n",
    "### 1. Setup the environment\n",
    "\n",
    "If you've not already done so, read the README Getting started section to set up the environment"
   ]
  },
  {
   "cell_type": "markdown",
   "metadata": {},
   "source": [
    "### Training the TD3 agent\n",
    "\n",
    "An agent cant be trained from a notebook or from the command line (using run_agent.py).\n",
    "\n",
    "Be aware that training an agent can take a long time. You may want to see a trained agent in action first.\n",
    "\n",
    "Skip to 'Testing the agent' if that's what you want to do.\n"
   ]
  },
  {
   "cell_type": "code",
   "execution_count": 1,
   "metadata": {},
   "outputs": [
    {
     "name": "stdout",
     "output_type": "stream",
     "text": [
      "running on cpu\n",
      "running on cpu\n"
     ]
    }
   ],
   "source": [
    "from lib.environments import UnityEnv\n",
    "from lib.td3_agent import TD3_Agent\n",
    "\n",
    "\n",
    "from run_agent import *"
   ]
  },
  {
   "cell_type": "code",
   "execution_count": null,
   "metadata": {},
   "outputs": [],
   "source": [
    "train_mode = True\n",
    "\n",
    "name = 'Tennis_TD3'\n",
    "\n",
    "env = UnityEnv('Tennis', './Tennis.app', train_mode=train_mode)\n",
    "### TODO update\n",
    "agent = DDPG_Agent(name=name,\n",
    "                   state_size=env.state_size,\n",
    "                   action_size=env.action_size,\n",
    "                   random_seed=2)\n",
    "\n",
    "train_agent(env, agent, max_steps=int(1e6))"
   ]
  },
  {
   "cell_type": "markdown",
   "metadata": {},
   "source": [
    "### View episode scores during training\n",
    "The scores of episodes during training are stored in a csv, which can be loaded using pandas.\n",
    "\n",
    "Please note that the name of the results csv is the same (excluding the extension) as the name of the agent supplied when training. So if the name of the agent is `Tennis_TD3` the state will be stored in `Tennis_TD3.pth` and the results during training will be stored in `Tennis_TD3.csv` "
   ]
  },
  {
   "cell_type": "code",
   "execution_count": 2,
   "metadata": {
    "scrolled": true
   },
   "outputs": [
    {
     "name": "stdout",
     "output_type": "stream",
     "text": [
      "An average score of 30+ is achieved after 20000 steps\n"
     ]
    },
    {
     "data": {
      "image/png": "[encoded data removed]",
      "text/plain": [
       "<Figure size 720x576 with 1 Axes>"
      ]
     },
     "metadata": {
      "needs_background": "light"
     },
     "output_type": "display_data"
    }
   ],
   "source": [
    "import matplotlib.pyplot as plt\n",
    "%matplotlib inline\n",
    "\n",
    "import pandas as pd\n",
    "\n",
    "df = pd.read_csv('td3_base.csv')\n",
    "\n",
    "first_row_solved = df[df['average_score'] > 0.5].iloc[0]\n",
    "print(f'An average score of 30+ is achieved after {round(first_row_solved.steps)} steps')\n",
    "\n",
    "plt.rcParams[\"figure.figsize\"] = (10,8)\n",
    "\n",
    "fig = plt.figure()\n",
    "ax = fig.add_subplot(111)\n",
    "plt.title('TD3 - Average score whilst training')\n",
    "plt.plot(df['steps'], df['average_score'])\n",
    "plt.ylabel('Average Score')\n",
    "plt.xlabel('Steps #')\n",
    "plt.savefig('td3_learning_rate')"
   ]
  },
  {
   "cell_type": "markdown",
   "metadata": {},
   "source": [
    "### Testing the agent\n",
    "\n",
    "Again the trained agent can be tested either from a notebook or command line (using run_agent.py)"
   ]
  },
  {
   "cell_type": "code",
   "execution_count": null,
   "metadata": {
    "scrolled": false
   },
   "outputs": [
    {
     "name": "stdout",
     "output_type": "stream",
     "text": [
      "running on cpu\n",
      "running on cpu\n"
     ]
    },
    {
     "name": "stderr",
     "output_type": "stream",
     "text": [
      "INFO:unityagents:\n",
      "'Academy' started successfully!\n",
      "Unity Academy name: Academy\n",
      "        Number of Brains: 1\n",
      "        Number of External Brains : 1\n",
      "        Lesson number : 0\n",
      "        Reset Parameters :\n",
      "\t\t\n",
      "Unity brain name: TennisBrain\n",
      "        Number of Visual Observations (per agent): 0\n",
      "        Vector Observation space type: continuous\n",
      "        Vector Observation space size (per agent): 8\n",
      "        Number of stacked Vector Observation: 3\n",
      "        Vector Action space type: continuous\n",
      "        Vector Action space size (per agent): 2\n",
      "        Vector Action descriptions: , \n"
     ]
    },
    {
     "name": "stdout",
     "output_type": "stream",
     "text": [
      "brain_name: TennisBrain\n",
      "Number of agents: 2\n",
      "Size of each action: 2\n",
      "There are 2 agents. Each observes a state with length: 24\n",
      "The state for the first agent looks like: [ 0.          0.          0.          0.          0.          0.\n",
      "  0.          0.          0.          0.          0.          0.\n",
      "  0.          0.          0.          0.         -6.65278625 -1.5\n",
      " -0.          0.          6.83172083  6.         -0.          0.        ]\n",
      "Episode: 1 average so far 0.10000000149011612\n",
      "Episode: 2 average so far 0.10000000149011612\n",
      "Episode: 3 average so far 0.10000000149011612\n",
      "Episode: 4 average so far 0.10000000149011612\n",
      "Episode: 5 average so far 0.09800000153481961\n",
      "Episode: 6 average so far 0.5150000077361861\n",
      "Episode: 7 average so far 0.8128571550228766\n",
      "Episode: 8 average so far 1.0362500154878944\n",
      "Episode: 9 average so far 1.2100000180717971\n",
      "Episode: 10 average so far 1.3490000201389194\n",
      "Episode: 11 average so far 1.4627272945574739\n",
      "Episode: 12 average so far 1.5575000232396026\n",
      "Episode: 13 average so far 1.6376923321244807\n",
      "Episode: 14 average so far 1.7064285968829478\n",
      "Episode: 15 average so far 1.766000026340286\n",
      "Episode: 16 average so far 1.8181250271154568\n",
      "Episode: 17 average so far 1.8641176748582546\n",
      "Episode: 18 average so far 1.9050000284074082\n",
      "Episode: 19 average so far 1.9415789763198088\n",
      "Episode: 20 average so far 1.9745000294409691\n",
      "Episode: 21 average so far 2.0042857441696382\n",
      "Episode: 22 average so far 2.0313636666502464\n",
      "Episode: 23 average so far 2.0560869871760192\n",
      "Episode: 24 average so far 2.0787500309913107\n",
      "Episode: 25 average so far 2.0996000313013794\n",
      "Episode: 26 average so far 2.018846183943634\n",
      "Episode: 27 average so far 1.9477778068157259\n",
      "Episode: 28 average so far 1.9710714579559863\n",
      "Episode: 29 average so far 1.9927586503969184\n",
      "Episode: 30 average so far 2.013000030008455\n",
      "Episode: 31 average so far 2.031935514161183\n",
      "Episode: 32 average so far 2.0496875305543654\n",
      "Episode: 33 average so far 2.0663636671661427\n",
      "Episode: 34 average so far 2.082058854565463\n",
      "Episode: 35 average so far 2.096857174113393\n",
      "Episode: 36 average so far 2.110833364797549\n",
      "Episode: 37 average so far 2.1240540857149943\n",
      "Episode: 38 average so far 2.1365789792157317\n",
      "Episode: 39 average so far 2.148461570485662\n",
      "Episode: 40 average so far 2.159750032192096\n",
      "Episode: 41 average so far 2.1704878372299237\n",
      "Episode: 42 average so far 2.1807143182183304\n",
      "Episode: 43 average so far 2.190465148928207\n",
      "Episode: 44 average so far 2.199772760060362\n",
      "Episode: 45 average so far 2.2086666995866433\n",
      "Episode: 46 average so far 2.2171739460900426\n",
      "Episode: 47 average so far 2.2253191821039358\n",
      "Episode: 48 average so far 2.2331250332839168\n",
      "Episode: 49 average so far 2.1875510530128164\n",
      "Episode: 50 average so far 2.1958000327274205\n"
     ]
    }
   ],
   "source": [
    "from lib.environments import UnityEnv\n",
    "from lib.td3_agent import TD3_Agent\n",
    "\n",
    "from run_agent import *\n",
    "\n",
    "RANDOM_SEED = 2\n",
    "\n",
    "train_mode = False\n",
    "\n",
    "name = 'Tennis_TD3_Trained'\n",
    "\n",
    "env = UnityEnv('Tennis', './Tennis_Linux/Tennis.x86_64', train_mode=train_mode)\n",
    "agents = []\n",
    "for i in range(env.num_agents):\n",
    "    agent = TD3_Agent(name=f'{name}-{i}',\n",
    "                      state_size=env.state_size,\n",
    "                      action_size=env.action_size,\n",
    "                      random_seed=RANDOM_SEED,\n",
    "                      warm_up=int(1e4),\n",
    "                     )\n",
    "    agents.append(agent)\n",
    "\n",
    "\n",
    "load_agents(agents)\n",
    "\n",
    "n_episodes = 100\n",
    "average_reward = eval_episodes(env, agents, num_episodes=n_episodes)\n",
    "print(f'average score for {n_episodes} episodes is {average_reward}')"
   ]
  }
 ],
 "metadata": {
  "kernelspec": {
   "display_name": "drlnd",
   "language": "python",
   "name": "drlnd"
  },
  "language_info": {
   "codemirror_mode": {
    "name": "ipython",
    "version": 3
   },
   "file_extension": ".py",
   "mimetype": "text/x-python",
   "name": "python",
   "nbconvert_exporter": "python",
   "pygments_lexer": "ipython3",
   "version": "3.6.13"
  }
 },
 "nbformat": 4,
 "nbformat_minor": 2
}
